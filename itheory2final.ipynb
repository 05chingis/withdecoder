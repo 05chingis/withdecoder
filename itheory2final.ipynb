{
 "cells": [
  {
   "cell_type": "code",
   "execution_count": 1,
   "metadata": {},
   "outputs": [],
   "source": [
    "with open('Text.txt', 'r') as file:\n",
    "    TextReader = file.read().strip()\n",
    "dictionary={}\n",
    "for i in set(TextReader):\n",
    "    dictionary[i]=round(TextReader.count(i)/len(TextReader),3)\n",
    "d=dict(sorted(dictionary.items(), key=lambda item: item[1],reverse=True))# creation of sorted probability values"
   ]
  },
  {
   "cell_type": "code",
   "execution_count": 2,
   "metadata": {},
   "outputs": [
    {
     "data": {
      "text/plain": [
       "[0.088,\n",
       " 0.088,\n",
       " 0.088,\n",
       " 0.088,\n",
       " 0.088,\n",
       " 0.088,\n",
       " 0.088,\n",
       " 0.059,\n",
       " 0.029,\n",
       " 0.029,\n",
       " 0.029,\n",
       " 0.029,\n",
       " 0.029,\n",
       " 0.029,\n",
       " 0.029,\n",
       " 0.029,\n",
       " 0.029,\n",
       " 0.029,\n",
       " 0.029]"
      ]
     },
     "execution_count": 2,
     "metadata": {},
     "output_type": "execute_result"
    }
   ],
   "source": [
    "values=list(d.values())\n",
    "values"
   ]
  },
  {
   "cell_type": "code",
   "execution_count": 3,
   "metadata": {},
   "outputs": [],
   "source": [
    "with open('Text.txt', 'r') as file:\n",
    "    TextReader = file.read().strip()\n",
    "dictionary1={}\n",
    "for i in set(TextReader):\n",
    "    dictionary1[i]=''"
   ]
  },
  {
   "cell_type": "code",
   "execution_count": 4,
   "metadata": {},
   "outputs": [
    {
     "data": {
      "text/plain": [
       "['s',\n",
       " 'l',\n",
       " ' ',\n",
       " 'n',\n",
       " 'h',\n",
       " 'a',\n",
       " 'y',\n",
       " 't',\n",
       " '\\n',\n",
       " 'S',\n",
       " '!',\n",
       " 'i',\n",
       " 'H',\n",
       " 'Z',\n",
       " 'e',\n",
       " 'd',\n",
       " 'o',\n",
       " 'u',\n",
       " 'g']"
      ]
     },
     "execution_count": 4,
     "metadata": {},
     "output_type": "execute_result"
    }
   ],
   "source": [
    "keylist=list(d)\n",
    "keylist"
   ]
  },
  {
   "cell_type": "code",
   "execution_count": 5,
   "metadata": {},
   "outputs": [
    {
     "data": {
      "text/plain": [
       "{'s': '',\n",
       " 'l': '',\n",
       " ' ': '',\n",
       " 'n': '',\n",
       " 'h': '',\n",
       " 'a': '',\n",
       " 'y': '',\n",
       " 't': '',\n",
       " '\\n': '',\n",
       " 'S': '',\n",
       " '!': '',\n",
       " 'i': '',\n",
       " 'H': '',\n",
       " 'Z': '',\n",
       " 'e': '',\n",
       " 'd': '',\n",
       " 'o': '',\n",
       " 'u': '',\n",
       " 'g': ''}"
      ]
     },
     "execution_count": 5,
     "metadata": {},
     "output_type": "execute_result"
    }
   ],
   "source": [
    "values1=list(dictionary1.values())\n",
    "dic=dict(zip(keylist, values1))\n",
    "dic"
   ]
  },
  {
   "cell_type": "code",
   "execution_count": 6,
   "metadata": {},
   "outputs": [
    {
     "data": {
      "text/plain": [
       "['', '', '', '', '', '', '', '', '', '', '', '', '', '', '', '', '', '', '']"
      ]
     },
     "execution_count": 6,
     "metadata": {},
     "output_type": "execute_result"
    }
   ],
   "source": [
    "values2=list(dic.values())\n",
    "values2"
   ]
  },
  {
   "cell_type": "code",
   "execution_count": 13,
   "metadata": {},
   "outputs": [],
   "source": [
    "def ShannonFano(d, begin, end):\n",
    "    if(begin==end):\n",
    "        return \n",
    "    a=begin\n",
    "    z=end\n",
    "    suml=0.0\n",
    "    sumr=0.0\n",
    "    \n",
    "    while(a<=z):\n",
    "        if(suml<=sumr):\n",
    "            suml+=values[a]\n",
    "            a+=1\n",
    "        else:\n",
    "            sumr+=values[z]\n",
    "            z-=1\n",
    "    for i in range(begin,a):\n",
    "        values2[i]+='0'\n",
    "    for i in range(a,end+1): \n",
    "        values2[i]+='1'\n",
    "\n",
    "    ShannonFano(d, begin, a-1)\n",
    "    ShannonFano(d, a, end)"
   ]
  },
  {
   "cell_type": "code",
   "execution_count": 14,
   "metadata": {},
   "outputs": [],
   "source": [
    "ShannonFano(d,0,len(d)-1)"
   ]
  },
  {
   "cell_type": "code",
   "execution_count": 15,
   "metadata": {},
   "outputs": [
    {
     "data": {
      "text/plain": [
       "{'s': '0000',\n",
       " 'l': '0001',\n",
       " ' ': '001',\n",
       " 'n': '0100',\n",
       " 'h': '0101',\n",
       " 'a': '011',\n",
       " 'y': '100',\n",
       " 't': '1010',\n",
       " '\\n': '101100',\n",
       " 'S': '101101',\n",
       " '!': '10111',\n",
       " 'i': '11000',\n",
       " 'H': '11001',\n",
       " 'Z': '11010',\n",
       " 'e': '11011',\n",
       " 'd': '11100',\n",
       " 'o': '11101',\n",
       " 'u': '11110',\n",
       " 'g': '11111'}"
      ]
     },
     "execution_count": 15,
     "metadata": {},
     "output_type": "execute_result"
    }
   ],
   "source": [
    "dic=dict(zip(keylist, values2))\n",
    "dic"
   ]
  },
  {
   "cell_type": "code",
   "execution_count": 16,
   "metadata": {},
   "outputs": [
    {
     "name": "stdout",
     "output_type": "stream",
     "text": [
      "Hello hitty!\n",
      "Shyngys and Zhassulan\n"
     ]
    }
   ],
   "source": [
    "print(TextReader)"
   ]
  },
  {
   "cell_type": "code",
   "execution_count": 17,
   "metadata": {},
   "outputs": [
    {
     "name": "stdout",
     "output_type": "stream",
     "text": [
      "11001110110001000111101001010111000101010101001011110110010110101011000100111111000000001011010011100001110100101011000000001111000010110100\n"
     ]
    }
   ],
   "source": [
    "x=''\n",
    "for i in TextReader:\n",
    "    x+=dic[i]\n",
    "print(x)"
   ]
  },
  {
   "cell_type": "code",
   "execution_count": 18,
   "metadata": {},
   "outputs": [],
   "source": [
    "text_file = open(\"Text1.txt\", \"w\")\n",
    "text_file.write(x)\n",
    "text_file.close()"
   ]
  },
  {
   "cell_type": "code",
   "execution_count": 26,
   "metadata": {},
   "outputs": [],
   "source": [
    "def decoder(x):\n",
    "    newdic = {}\n",
    "    for i in dic: # new dinctionary that replaces keys and values between each other\n",
    "        newdic[dic[i]] = i\n",
    "    begin = 0\n",
    "    current = 0\n",
    "    str1 = ''\n",
    "    while current < len(x) + 1: # running on each x digit\n",
    "        try:\n",
    "            str1 += newdic[str(x[begin:current])] # writes into the string decoded letters\n",
    "            begin = current\n",
    "        except KeyError:\n",
    "            current+= 1\n",
    "    return str1"
   ]
  },
  {
   "cell_type": "code",
   "execution_count": 27,
   "metadata": {},
   "outputs": [
    {
     "data": {
      "text/plain": [
       "'Hello hitty!\\nShyngys and Zhassulan'"
      ]
     },
     "execution_count": 27,
     "metadata": {},
     "output_type": "execute_result"
    }
   ],
   "source": [
    "decoder(x)"
   ]
  },
  {
   "cell_type": "code",
   "execution_count": null,
   "metadata": {},
   "outputs": [],
   "source": []
  }
 ],
 "metadata": {
  "kernelspec": {
   "display_name": "Python 3",
   "language": "python",
   "name": "python3"
  },
  "language_info": {
   "codemirror_mode": {
    "name": "ipython",
    "version": 3
   },
   "file_extension": ".py",
   "mimetype": "text/x-python",
   "name": "python",
   "nbconvert_exporter": "python",
   "pygments_lexer": "ipython3",
   "version": "3.8.3"
  }
 },
 "nbformat": 4,
 "nbformat_minor": 4
}
